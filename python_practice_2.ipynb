{
 "nbformat": 4,
 "nbformat_minor": 0,
 "metadata": {
  "colab": {
   "provenance": []
  },
  "kernelspec": {
   "name": "python3",
   "language": "python",
   "display_name": "Python 3 (ipykernel)"
  },
  "language_info": {
   "name": "python"
  }
 },
 "cells": [
  {
   "cell_type": "markdown",
   "source": [
    "# I. Змінні та памʼять."
   ],
   "metadata": {
    "id": "p9wwt0LZzNvn"
   }
  },
  {
   "cell_type": "markdown",
   "source": [
    "1. Створити змінні, що посилаються на два цілих числа, що однакові за значенням, де значення належить проміжку від -5 до 256. Перевірте, чи будуть ці змінні рівні тільки за значенням або ж ще будуть посилатися на один і той самий обʼєкт в памʼяті? Наведіть код та дайте текстову відповідь нижче."
   ],
   "metadata": {
    "id": "HTJrrm95xSV9"
   }
  },
  {
   "cell_type": "code",
   "execution_count": 1,
   "metadata": {
    "id": "TATni2vzayjG",
    "ExecuteTime": {
     "end_time": "2024-02-13T11:10:50.021211900Z",
     "start_time": "2024-02-13T11:10:49.765637800Z"
    }
   },
   "outputs": [
    {
     "name": "stdout",
     "output_type": "stream",
     "text": [
      "Числа рівні за значенням: True\n",
      "Числа посилаються на один об'єкт: True\n"
     ]
    }
   ],
   "source": [
    "a = 100\n",
    "b = 100\n",
    "\n",
    "# Перевірка, чи змінні рівні за значенням\n",
    "print(\"Числа рівні за значенням:\", a == b)  # Це має видати True, оскільки значення змінних однакові\n",
    "\n",
    "print(\"Числа посилаються на один об'єкт:\", a is b)  "
   ]
  },
  {
   "cell_type": "markdown",
   "source": [
    "У Python числа від -5 до 256 зберігаються в пулі малих цілих чисел, тому змінні, які посилаються на ці числа, будуть не тільки рівні за значенням, але й будуть посилатися на один і той самий об'єкт в пам'яті."
   ],
   "metadata": {
    "id": "zfRG_o3WbRdg"
   }
  },
  {
   "cell_type": "markdown",
   "source": [
    "2. За допомогою якої функції можна перевірити належність змінної до вказаного типу даних (напр. чи змінна True посилається на значення булевого та цілочисленого типу)?"
   ],
   "metadata": {
    "id": "ISORzt6M3vAt"
   }
  },
  {
   "cell_type": "code",
   "source": [
    "# Відповідь: функція isinstance\n",
    "print(isinstance(1, int))\n",
    "print(isinstance(True, bool))\n",
    "print(isinstance('', str))"
   ],
   "metadata": {
    "id": "9vL9CFaMbfyo",
    "ExecuteTime": {
     "end_time": "2024-02-13T11:10:50.022213500Z",
     "start_time": "2024-02-13T11:10:49.786154200Z"
    }
   },
   "execution_count": 2,
   "outputs": [
    {
     "name": "stdout",
     "output_type": "stream",
     "text": [
      "True\n",
      "True\n",
      "True\n"
     ]
    }
   ]
  },
  {
   "cell_type": "markdown",
   "source": [
    "# II. Цілі числа та числа з рухомою комою"
   ],
   "metadata": {
    "id": "tRxugKAxwYLw"
   }
  },
  {
   "cell_type": "markdown",
   "source": [
    "3. Створити дві змінні, що посилаються на будь-які ціле число та число з рухомою комою та продемонструвати такі арифметичні операції: додавання, віднімання, ділення, множення, ділення без залишку, ділення по модулю, приведення до ступеню. Всі результати операцій вивести на екран."
   ],
   "metadata": {
    "id": "NLHkgd5Gybc8"
   }
  },
  {
   "cell_type": "code",
   "source": [
    "# Створення двох змінних: одна для цілого числа, інша для числа з рухомою комою\n",
    "a = 10\n",
    "b = 3.5\n",
    "\n",
    "print(f\"{a=}, {b=}\")\n",
    "print(f\"a+b: {a+b}\")\n",
    "print(f\"a-b: {a-b}\")\n",
    "simple_div_ab = a/b\n",
    "print(f\"a/b: {simple_div_ab}\")\n",
    "print(f\"b/a: {b/a}\")\n",
    "print(f\"a*b: {a*b}\")\n",
    "\n",
    "div_ab, mod_ab = divmod(a, b) \n",
    "div_ba, mod_ba = divmod(b, a)\n",
    "print(f\"Цілочисельне ділення - a//b: {div_ab}, b//a: {div_ba}\") \n",
    "print(f\"Ділення по модулю - a%b: {mod_ab}, b//a: {mod_ba}\")\n",
    "print(f\"a**b: {a**b}\")\n",
    "print(f\"b**a: {b**a}\")\n"
   ],
   "metadata": {
    "id": "nb8u_3pjb2cA",
    "ExecuteTime": {
     "end_time": "2024-02-13T11:10:50.022213500Z",
     "start_time": "2024-02-13T11:10:49.805154200Z"
    }
   },
   "execution_count": 3,
   "outputs": [
    {
     "name": "stdout",
     "output_type": "stream",
     "text": [
      "a=10, b=3.5\n",
      "a+b: 13.5\n",
      "a-b: 6.5\n",
      "a/b: 2.857142857142857\n",
      "b/a: 0.35\n",
      "a*b: 35.0\n",
      "Цілочисельне ділення - a//b: 2.0, b//a: 0.0\n",
      "Ділення по модулю - a%b: 3.0, b//a: 3.5\n",
      "a**b: 3162.2776601683795\n",
      "b**a: 275854.7353515625\n"
     ]
    }
   ]
  },
  {
   "cell_type": "markdown",
   "source": [
    "4. Використовуючи змінні з вправи 3, продемонструйте механізм явного перетворення типів, де числа з рухомою комою перетворюються на цілі числа. Також визначте змінну, що посилається на значення булевого типу і спробуйте явно привести її до цілого числа."
   ],
   "metadata": {
    "id": "1kBClKgPzZnC"
   }
  },
  {
   "cell_type": "code",
   "source": [
    "print(f\"float(b): {b}, int(b): {int(b)}\")\n",
    "print(f\"Оригінальні результати ділення: {simple_div_ab}.\\n\"\n",
    "      f\"Вони ж переведені до цілого: {int(simple_div_ab)}\")\n",
    "print(f\"int(a//b): {int(div_ab)}\")\n",
    "bool_var = True\n",
    "print(f\"{bool_var} до цілого: {int(bool_var)}\")"
   ],
   "metadata": {
    "id": "TbqJbkeUcKsD",
    "ExecuteTime": {
     "end_time": "2024-02-13T11:10:50.022213500Z",
     "start_time": "2024-02-13T11:10:49.817153800Z"
    }
   },
   "execution_count": 4,
   "outputs": [
    {
     "name": "stdout",
     "output_type": "stream",
     "text": [
      "float(b): 3.5, int(b): 3\n",
      "Оригінальні результати ділення: 2.857142857142857.\n",
      "Вони ж переведені до цілого: 2\n",
      "int(a//b): 2\n",
      "True до цілого: 1\n"
     ]
    }
   ]
  },
  {
   "cell_type": "markdown",
   "source": [
    "# IІІ. Рядки (String)."
   ],
   "metadata": {
    "id": "EVJ7AflwxrZi"
   }
  },
  {
   "cell_type": "markdown",
   "source": [
    "5. Створити пустий рядок двома різними способами."
   ],
   "metadata": {
    "id": "_s5ECzz9zE61"
   }
  },
  {
   "cell_type": "code",
   "source": [
    "s1 = \"\"\n",
    "s2 = str()"
   ],
   "metadata": {
    "id": "fkZJHu9Scvc-",
    "ExecuteTime": {
     "end_time": "2024-02-13T11:10:50.022213500Z",
     "start_time": "2024-02-13T11:10:49.834158Z"
    }
   },
   "execution_count": 5,
   "outputs": []
  },
  {
   "cell_type": "markdown",
   "source": [
    "6. Створити рядок з апострофом. Зробити його сирим. Вивести обидва рядка на екран."
   ],
   "metadata": {
    "id": "4Bdn9J3MzLf_"
   }
  },
  {
   "cell_type": "code",
   "source": [
    "s = 'В\\'ячеслав'\n",
    "raw_s = r'В\\'ячеслав'\n",
    "print(\"Простий:\", s)\n",
    "print(\"Сирий: \", raw_s)\n"
   ],
   "metadata": {
    "id": "ivji_hsmc0GH",
    "ExecuteTime": {
     "end_time": "2024-02-13T11:10:50.023212900Z",
     "start_time": "2024-02-13T11:10:49.849155500Z"
    }
   },
   "execution_count": 6,
   "outputs": [
    {
     "name": "stdout",
     "output_type": "stream",
     "text": [
      "Простий: В'ячеслав\n",
      "Сирий:  В\\'ячеслав\n"
     ]
    }
   ]
  },
  {
   "cell_type": "markdown",
   "source": [
    "7. Створити змінну, що буде посилатися на Ваше прізвище латинкою. Створити форматований рядок, який буде мати вигляд \"My surname is ______\", де на місці нижніх підкреслень буде Ваше прізвище зі змінної."
   ],
   "metadata": {
    "id": "bg_d8wM4z8dS"
   }
  },
  {
   "cell_type": "code",
   "source": [
    "surname = \"Shpihanovych\"\n",
    "print(\"My surname is {}\".format(surname))\n",
    "# print(f\"My surname is {surname}\")\n",
    "# print(\"My surname is %s\" % surname)"
   ],
   "metadata": {
    "id": "kuxFgpWndACq",
    "ExecuteTime": {
     "end_time": "2024-02-13T11:10:50.024215100Z",
     "start_time": "2024-02-13T11:10:49.866161700Z"
    }
   },
   "execution_count": 7,
   "outputs": [
    {
     "name": "stdout",
     "output_type": "stream",
     "text": [
      "My surname is Shpihanovych\n"
     ]
    }
   ]
  },
  {
   "cell_type": "markdown",
   "source": [
    "8. Маючи рядок \"My dog is crazy.\" перетворити його на список [\"my\", \"dog\", \"is\", \"crazy\"]"
   ],
   "metadata": {
    "id": "1Nc6RqvQ0hxU"
   }
  },
  {
   "cell_type": "code",
   "source": [
    "input_str = 'My dog is crazy.'\n",
    "res = input_str[:-1].lower().split()\n",
    "print(res)"
   ],
   "metadata": {
    "id": "w1Ya4RqedUhw",
    "ExecuteTime": {
     "end_time": "2024-02-13T11:10:50.024215100Z",
     "start_time": "2024-02-13T11:10:49.879570Z"
    }
   },
   "execution_count": 8,
   "outputs": [
    {
     "name": "stdout",
     "output_type": "stream",
     "text": [
      "['my', 'dog', 'is', 'crazy']\n"
     ]
    }
   ]
  },
  {
   "cell_type": "markdown",
   "source": [
    "# IV. Робота зі списками."
   ],
   "metadata": {
    "id": "GYVqN9uP1D4n"
   }
  },
  {
   "cell_type": "markdown",
   "source": [
    "9. Створити список двома різними за синтаксисом способами. За допомогою вбудованої функції обчисліть довжину одного з них."
   ],
   "metadata": {
    "id": "7-DeDunw2sO-"
   }
  },
  {
   "cell_type": "code",
   "source": [
    "list_1 = []\n",
    "list_2 = list((\"a\", \"b\"))\n",
    "print(len(list_2))"
   ],
   "metadata": {
    "id": "zxg06Uuxdyoh",
    "ExecuteTime": {
     "end_time": "2024-02-13T11:10:50.024215100Z",
     "start_time": "2024-02-13T11:10:49.895944500Z"
    }
   },
   "execution_count": 9,
   "outputs": [
    {
     "name": "stdout",
     "output_type": "stream",
     "text": [
      "2\n"
     ]
    }
   ]
  },
  {
   "cell_type": "markdown",
   "source": [
    "10. Створіть два списка та за допомогою спеціального методу додайте другий з них в якості останнього елемента першого."
   ],
   "metadata": {
    "id": "8vmGUTjL22gI"
   }
  },
  {
   "cell_type": "code",
   "source": [
    "l1 = [\"a\", \"b\"]\n",
    "l2 = [\"c\", \"d\"]\n",
    "l1.append(l2)\n",
    "print(l1)"
   ],
   "metadata": {
    "id": "uHtjWYw7d7hm",
    "ExecuteTime": {
     "end_time": "2024-02-13T11:10:50.025212900Z",
     "start_time": "2024-02-13T11:10:49.911941500Z"
    }
   },
   "execution_count": 10,
   "outputs": [
    {
     "name": "stdout",
     "output_type": "stream",
     "text": [
      "['a', 'b', ['c', 'd']]\n"
     ]
    }
   ]
  },
  {
   "cell_type": "markdown",
   "source": [
    "11. Створіть список, де елементами цього списку також є списки. Отримай перший елемент з останнього рядка та виведи значення на екран."
   ],
   "metadata": {
    "id": "JC3BkD-67_--"
   }
  },
  {
   "cell_type": "code",
   "source": [
    "list_of_lists = [[\"a\", \"b\"], [ \"foo\", \"bar\", \"baz\"]]\n",
    "print(list_of_lists[-1][0])"
   ],
   "metadata": {
    "id": "Kz2jZHsGeLlz",
    "ExecuteTime": {
     "end_time": "2024-02-13T11:10:50.026213500Z",
     "start_time": "2024-02-13T11:10:49.926939300Z"
    }
   },
   "execution_count": 11,
   "outputs": [
    {
     "name": "stdout",
     "output_type": "stream",
     "text": [
      "foo\n"
     ]
    }
   ]
  },
  {
   "cell_type": "markdown",
   "source": [
    "12. Створіть список з десяти елементів різного типу. Отримайте всі елементи, окрім двох перших та двох останніх та збережіть їх в новій змінній."
   ],
   "metadata": {
    "id": "JA47PKTv8zFK"
   }
  },
  {
   "cell_type": "code",
   "source": [
    "# Створення списку з десяти елементів різного типу\n",
    "list_ = [1, 3.0, 5+4j ,True, None, \"Python\", [1, 2], (3, 4), {5, 6}, {\"foo\": \"bar\"}]\n",
    "\n",
    "# Отримання всіх елементів, окрім двох перших та двох останніх\n",
    "new_list = list_[2:-2]\n",
    "\n",
    "new_list\n"
   ],
   "metadata": {
    "id": "_rHdUR-ueP4-",
    "ExecuteTime": {
     "end_time": "2024-02-13T11:10:50.026213500Z",
     "start_time": "2024-02-13T11:10:49.943137500Z"
    }
   },
   "execution_count": 12,
   "outputs": [
    {
     "data": {
      "text/plain": "[(5+4j), True, None, 'Python', [1, 2], (3, 4)]"
     },
     "execution_count": 12,
     "metadata": {},
     "output_type": "execute_result"
    }
   ]
  },
  {
   "cell_type": "markdown",
   "source": [
    "# V. Робота з кортежами."
   ],
   "metadata": {
    "id": "pCjR1dJb1Qbi"
   }
  },
  {
   "cell_type": "markdown",
   "source": [
    "14. Створити кортеж з один елементом."
   ],
   "metadata": {
    "id": "fAZCxAX06R_k"
   }
  },
  {
   "cell_type": "code",
   "source": [
    "tuple_ = \"Hello, World!\",\n",
    "print(tuple_)"
   ],
   "metadata": {
    "id": "H7d82WkQev3e",
    "ExecuteTime": {
     "end_time": "2024-02-13T11:10:50.050525800Z",
     "start_time": "2024-02-13T11:10:49.958182700Z"
    }
   },
   "execution_count": 13,
   "outputs": [
    {
     "name": "stdout",
     "output_type": "stream",
     "text": [
      "('Hello, World!',)\n"
     ]
    }
   ]
  },
  {
   "cell_type": "markdown",
   "source": [
    "15. Порівняйте список та кортеж. Назвіть схожості та відмінності, випадки використання."
   ],
   "metadata": {
    "id": "8LCtYcmI6w1M"
   }
  },
  {
   "cell_type": "markdown",
   "source": [
    "Спільні риси: підтримують ітерацію, індексацію, можуть містити елементи різних типів в довільній кількості, \n",
    "підтримка методів для роботи з ними (len, max, ...), зміна стану елементів всередині них.\n",
    "Відмінності: список є змінним (mutable), кортеж ні (immutable), тобто до кортежу не можна добавити нові елементи\n",
    "або їх замінити, хоч і можна змінити внутрішній стан наявних. Як наслідок, список підтримує більшу кількість\n",
    "методів (append, extend, ...). \n",
    "Кортеж займає менше місця в пам'яті, і оскільки незмінний, підтримує хешування і тому може бути ключем у словнику."
   ],
   "metadata": {
    "id": "fUsN1Hnue0C6"
   }
  },
  {
   "cell_type": "markdown",
   "source": [
    "16. Створіть кортеж з 11ти елементів чисел з рухомою комою та отримайте кожен парний за індексом елемент в зворотньому порядку. Наприклад, маючи (1.2, 2.3, 3.3, 4.3, 5.3, 6.3, 7.3, 8.3, 9.3, 0.3), отримати (0.3, 8.3, 6.3, 4.3, 2.3). Результат збережіть в нову змінну та виведіть на екран."
   ],
   "metadata": {
    "id": "m0xrwFijAmDD"
   }
  },
  {
   "cell_type": "code",
   "source": [
    "tuple_ = (1.2, 2.3, 3.3, 4.3, 5.3, 6.3, 7.3, 8.3, 9.3, 0.3)\n",
    "res_tuple = tuple_[::-2]\n",
    "print(res_tuple)"
   ],
   "metadata": {
    "id": "p-5DAH6XfAGA",
    "ExecuteTime": {
     "end_time": "2024-02-13T11:10:50.050525800Z",
     "start_time": "2024-02-13T11:10:49.975298500Z"
    }
   },
   "execution_count": 14,
   "outputs": [
    {
     "name": "stdout",
     "output_type": "stream",
     "text": [
      "(0.3, 8.3, 6.3, 4.3, 2.3)\n"
     ]
    }
   ]
  },
  {
   "cell_type": "markdown",
   "source": [
    "# VI. Множини (Set)."
   ],
   "metadata": {
    "id": "rW_I9dt3x6cW"
   }
  },
  {
   "cell_type": "markdown",
   "source": [
    "17. Створити множину без елементів. Після цого за допомогою методу додайте кілька різних елементів до множини. Чи множини є змінним типом даних?"
   ],
   "metadata": {
    "id": "zNjRLHLw1Bgg"
   }
  },
  {
   "cell_type": "code",
   "source": [
    "set_ = set()\n",
    "set_.add(1)\n",
    "set_.update((2, 3))\n",
    "print(set_)"
   ],
   "metadata": {
    "id": "KOv7zc2Kfo4N",
    "ExecuteTime": {
     "end_time": "2024-02-13T11:10:50.050525800Z",
     "start_time": "2024-02-13T11:10:49.989723Z"
    }
   },
   "execution_count": 15,
   "outputs": [
    {
     "name": "stdout",
     "output_type": "stream",
     "text": [
      "{1, 2, 3}\n"
     ]
    }
   ]
  },
  {
   "cell_type": "markdown",
   "source": [
    "Так, множини є змінним типом даних, оскільки їх можна змінювати."
   ],
   "metadata": {
    "id": "vxS6dVYiftZQ"
   }
  },
  {
   "cell_type": "markdown",
   "source": [
    "18. Створити множину, маючи список my_list = [1, 1, 2, 67, 67, 8, 9]. Пояснити, чому \"зникли\" деякі елементи."
   ],
   "metadata": {
    "id": "gHpT0Zw_1HEF"
   }
  },
  {
   "cell_type": "code",
   "source": [
    "my_list = [1, 1, 2, 67, 67, 8, 9]\n",
    "my_set = set(my_list)\n",
    "print(my_set)"
   ],
   "metadata": {
    "id": "qCN4uvJ_fxmu",
    "ExecuteTime": {
     "end_time": "2024-02-13T11:10:50.050525800Z",
     "start_time": "2024-02-13T11:10:50.004205500Z"
    }
   },
   "execution_count": 16,
   "outputs": [
    {
     "name": "stdout",
     "output_type": "stream",
     "text": [
      "{1, 2, 67, 8, 9}\n"
     ]
    }
   ]
  },
  {
   "cell_type": "markdown",
   "source": [
    "Зникли дуплікати елементів, оскільки множина може містити тільки унікальні елементи, а 1 та 67 зустрічаються двічі. "
   ],
   "metadata": {
    "id": "tFNc1e20fyny"
   }
  },
  {
   "cell_type": "markdown",
   "source": [
    "19. Створіть дві множини. Продемонстуйте над ними операції: обʼєднання, різниці, пересічі та симетричної різниці. Використовуйте методи, що не змінюють множини, а створюють нові."
   ],
   "metadata": {
    "id": "SRMkGizS1UwY"
   }
  },
  {
   "cell_type": "code",
   "source": [
    "set1 = {1, 2}\n",
    "set2 = {2, 3}\n",
    "\n",
    "union_set = set1.union(set2)\n",
    "print(\"Об'єднання множин:\", union_set)\n",
    "\n",
    "difference_set = set1.difference(set2)\n",
    "print(\"Різниця множин (перша множина без елементів другої):\", difference_set)\n",
    "\n",
    "intersection_set = set1.intersection(set2)\n",
    "print(\"Пересічення множин:\", intersection_set)\n",
    "\n",
    "# Симетрична різниця множин (елементи, що є або в першій, або в другій множині, але не в обох одночасно)\n",
    "symmetric_difference_set = set1.symmetric_difference(set2)\n",
    "print(\"Симетрична різниця множин:\", symmetric_difference_set)"
   ],
   "metadata": {
    "id": "h0T-VuDnf3Ri",
    "ExecuteTime": {
     "end_time": "2024-02-13T11:10:50.134147700Z",
     "start_time": "2024-02-13T11:10:50.020212Z"
    }
   },
   "execution_count": 17,
   "outputs": [
    {
     "name": "stdout",
     "output_type": "stream",
     "text": [
      "Об'єднання множин: {1, 2, 3}\n",
      "Різниця множин (перша множина без елементів другої): {1}\n",
      "Пересічення множин: {2}\n",
      "Симетрична різниця множин: {1, 3}\n"
     ]
    }
   ]
  },
  {
   "cell_type": "markdown",
   "source": [
    "# VII. Словники (Dictionary)."
   ],
   "metadata": {
    "id": "kWc8gkzTx7Ea"
   }
  },
  {
   "cell_type": "markdown",
   "source": [
    "20. Створіть пустий словник. До нього додайте чотири пари елементів такі, щоб їхні ключі були різних типів. Чи може список бути ключем? Чому?"
   ],
   "metadata": {
    "id": "i5FLwj-B2ybQ"
   }
  },
  {
   "cell_type": "code",
   "source": [
    "my_dict = {}\n",
    "my_dict[1] = 1\n",
    "my_dict[(1, 2)] = (1, 2)\n",
    "my_dict[None] = None\n",
    "my_dict[\"foo\"] = \"bar\"\n",
    "print(my_dict)"
   ],
   "metadata": {
    "id": "hxgv3BzrgLAV",
    "ExecuteTime": {
     "end_time": "2024-02-13T11:10:50.362009700Z",
     "start_time": "2024-02-13T11:10:50.036212300Z"
    }
   },
   "execution_count": 18,
   "outputs": [
    {
     "name": "stdout",
     "output_type": "stream",
     "text": [
      "{1: 1, (1, 2): (1, 2), None: None, 'foo': 'bar'}\n"
     ]
    }
   ]
  },
  {
   "cell_type": "markdown",
   "source": [
    "Ні, список не може бути ключем, оскільки він змінний і не підтримує хешування."
   ],
   "metadata": {
    "id": "zwa7UVN-gR3m"
   }
  },
  {
   "cell_type": "markdown",
   "source": [
    "21. Створіть словник, де значенням в одній з пар теж буде словник, який теж має вкладений словник. Виведіть на екран значення, що міститься в словнику, що знаходиться на найнижчому рівні ієрархії вкладеності (найбільш внутрішній)."
   ],
   "metadata": {
    "id": "WM_pMlJsgoNf"
   }
  },
  {
   "cell_type": "code",
   "source": [
    "inner_dict = {\n",
    "      \"id\": 123,\n",
    "      \"info\": {\n",
    "            \"status\": 200,\n",
    "            \"payload\": {\n",
    "                  \"amount\": 100_000,\n",
    "                  \"to_id\": 456,\n",
    "            },\n",
    "      }\n",
    "}\n",
    "print(inner_dict[\"info\"][\"payload\"][\"amount\"])"
   ],
   "metadata": {
    "id": "60dlP7IHhAy4",
    "ExecuteTime": {
     "end_time": "2024-02-13T11:49:42.691674200Z",
     "start_time": "2024-02-13T11:49:42.662875700Z"
    }
   },
   "execution_count": 1,
   "outputs": [
    {
     "name": "stdout",
     "output_type": "stream",
     "text": [
      "100000\n"
     ]
    }
   ]
  },
  {
   "cell_type": "markdown",
   "source": [
    "# Вітаю! Ви велика(ий) молодець, що впоралась(вся). Похваліть себе та побалуйте чимось приємним. Я Вами пишаюся."
   ],
   "metadata": {
    "id": "xOZP0hkx6cCr"
   }
  }
 ]
}
